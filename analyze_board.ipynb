{
 "cells": [
  {
   "cell_type": "code",
   "execution_count": 190,
   "id": "9c8c779a",
   "metadata": {},
   "outputs": [],
   "source": [
    "from matplotlib.image import imread\n",
    "from PIL import Image\n",
    "import numpy as np\n",
    "import matplotlib.pyplot as plt\n",
    "import os\n",
    "from collections import Counter"
   ]
  },
  {
   "cell_type": "code",
   "execution_count": 191,
   "id": "7ecd435b",
   "metadata": {},
   "outputs": [],
   "source": [
    "#resize board image to (640, 640)\n",
    "def resize_board_image(img_path):\n",
    "    img = Image.open(img_path)\n",
    "    img = img.resize((640, 640))\n",
    "    img.save(img_path)\n",
    "    return img_path"
   ]
  },
  {
   "cell_type": "code",
   "execution_count": 192,
   "id": "3a192942",
   "metadata": {},
   "outputs": [],
   "source": [
    "def grayscale(board):\n",
    "    #grayscale value\n",
    "    #RGB Value to grayscale formula (NTSC):\n",
    "    #0.299 ∙ Red + 0.587 ∙ Green + 0.114 ∙ Blue\n",
    "    board_gray = []\n",
    "    for i in range(board.shape[0]):\n",
    "        board_gray_row = []\n",
    "        for j in range (board.shape[1]):\n",
    "            r = board[i,j,0]\n",
    "            g = board[i,j,1]\n",
    "            b = board[i,j,2]\n",
    "            board_gray_row.append(0.299*r + 0.587*g + 0.114*b)\n",
    "        board_gray.append(board_gray_row)\n",
    "    return np.array(board_gray)"
   ]
  },
  {
   "cell_type": "code",
   "execution_count": 193,
   "id": "67fe5c4a",
   "metadata": {},
   "outputs": [],
   "source": [
    "def get_squares(board):\n",
    "    squares = []\n",
    "    square_width = int(board.shape[0]/8)\n",
    "    square_height = int(board.shape[1]/8)\n",
    "    for i in range(8):\n",
    "        squares_row = []\n",
    "        for j in range (8):\n",
    "            square = board[(square_height*i):(square_height*(i+1)), (square_width*j):(square_width*(j+1))]\n",
    "            squares_row.append(square)\n",
    "        squares.append(squares_row)\n",
    "    return np.array(squares)"
   ]
  },
  {
   "cell_type": "code",
   "execution_count": 194,
   "id": "ec230895",
   "metadata": {},
   "outputs": [],
   "source": [
    "def prewitt(square):\n",
    "    square_height, square_width = square.shape\n",
    "    #prewitt kernel\n",
    "    h_filter = np.array([[-1, 0, 1], \n",
    "                        [-1, 0, 1], \n",
    "                        [-1, 0, 1]])\n",
    "    v_filter = np.array([[-1, -1, -1], \n",
    "                        [ 0,  0,  0], \n",
    "                        [ 1,  1,  1]])\n",
    "\n",
    "    #initialize gradient image\n",
    "    gradient_image = np.zeros((square_height, square_width))\n",
    "\n",
    "    for i in range(1, square_height - 1):\n",
    "        for j in range(1, square_width - 1):\n",
    "            h_value = (h_filter[0, 0] * square[i - 1, j - 1]) + \\\n",
    "                      (h_filter[0, 1] * square[i - 1, j]) + \\\n",
    "                      (h_filter[0, 2] * square[i - 1, j + 1]) + \\\n",
    "                      (h_filter[1, 0] * square[i, j - 1]) + \\\n",
    "                      (h_filter[1, 1] * square[i, j]) + \\\n",
    "                      (h_filter[1, 2] * square[i, j + 1]) + \\\n",
    "                      (h_filter[2, 0] * square[i + 1, j - 1]) + \\\n",
    "                      (h_filter[2, 1] * square[i + 1, j]) + \\\n",
    "                      (h_filter[2, 2] * square[i + 1, j + 1])\n",
    "\n",
    "            v_value = (v_filter[0, 0] * square[i - 1, j - 1]) + \\\n",
    "                      (v_filter[0, 1] * square[i - 1, j]) + \\\n",
    "                      (v_filter[0, 2] * square[i - 1, j + 1]) + \\\n",
    "                      (v_filter[1, 0] * square[i, j - 1]) + \\\n",
    "                      (v_filter[1, 1] * square[i, j]) + \\\n",
    "                      (v_filter[1, 2] * square[i, j + 1]) + \\\n",
    "                      (v_filter[2, 0] * square[i + 1, j - 1]) + \\\n",
    "                      (v_filter[2, 1] * square[i + 1, j]) + \\\n",
    "                      (v_filter[2, 2] * square[i + 1, j + 1])\n",
    "            #value per pixel in gradient image\n",
    "            magnitude = np.sqrt(pow(h_value, 2) + pow(v_value, 2))\n",
    "            gradient_image[i - 1, j - 1] = magnitude\n",
    "    return gradient_image"
   ]
  },
  {
   "cell_type": "code",
   "execution_count": 195,
   "id": "c8fad8dd",
   "metadata": {},
   "outputs": [],
   "source": [
    "#crop out border\n",
    "def crop(source, value):\n",
    "    square = []\n",
    "    for i in range(int(source.shape[0]*value), int(source.shape[0]*(1-value))):\n",
    "        square_row = []\n",
    "        for j in range (int(source.shape[0]*value), int(source.shape[0]*(1-value))):\n",
    "            square_row.append(source[i][j])\n",
    "        square.append(square_row)\n",
    "    return np.array(square)"
   ]
  },
  {
   "cell_type": "code",
   "execution_count": 196,
   "id": "19e98499",
   "metadata": {},
   "outputs": [],
   "source": [
    "#check square occupancy\n",
    "def is_occupied(square):\n",
    "    piece = crop(square, 0.125)\n",
    "    piece = piece + 0.1e-16 #to avoid dividing by zero\n",
    "    \n",
    "    #horizontal pass\n",
    "    filled_h = 0\n",
    "    for i in range(piece.shape[0]):\n",
    "        target = 0\n",
    "        ratio = 0\n",
    "        stop_count = 0\n",
    "        for j in range(piece.shape[1]-1):\n",
    "            ratio = piece[i, j+1] / piece[i, j] #right:left pixel\n",
    "            if ratio > 9: #prewitt creates high contrast between pixels on an edge\n",
    "                target += 1\n",
    "                stop_count = j+1 #exclude detected pixel pair from the next search\n",
    "                break\n",
    "        ratio = 0\n",
    "        for j in range(piece.shape[1]-1-stop_count):\n",
    "            ratio = piece[i, piece.shape[1]-j-2] / piece[i, piece.shape[1]-j-1] #left:right pixel\n",
    "            if ratio > 9:\n",
    "                target += 1\n",
    "                break\n",
    "        if target >= 2:\n",
    "            filled_h += 1\n",
    "        else:\n",
    "            pass\n",
    "    \n",
    "    #vertical pass\n",
    "    filled_v = 0\n",
    "    for i in range(piece.shape[1]):\n",
    "        target = 0\n",
    "        ratio = 0\n",
    "        stop_count = 0\n",
    "        for j in range(piece.shape[0]-1):\n",
    "            ratio = piece[j+1, i] / piece[j, i] #bottom:top pixel\n",
    "            if ratio > 9: \n",
    "                target += 1\n",
    "                stop_count = j+1\n",
    "                break\n",
    "        ratio = 0\n",
    "        for j in range(piece.shape[0]-1-stop_count):\n",
    "            ratio = piece[piece.shape[1]-j-2, i] / piece[piece.shape[1]-j-1, i] #top:bottom pixel\n",
    "            if ratio > 9:\n",
    "                target += 1\n",
    "                break\n",
    "        if target >= 2:\n",
    "            filled_v += 1\n",
    "        else:\n",
    "            pass\n",
    "#     print(f\"Horizontal: {filled_h/piece.shape[0]}\", f\"Vertical: {filled_v/piece.shape[1]}\", piece.shape)\n",
    "    return filled_h/piece.shape[0] > 0.6 and filled_v/piece.shape[1] > 0.3"
   ]
  },
  {
   "cell_type": "code",
   "execution_count": 197,
   "id": "5191cf80",
   "metadata": {},
   "outputs": [],
   "source": [
    "#flag occupied squares\n",
    "def flag_squares(squares): #prewitt input\n",
    "    flags = []\n",
    "    for s_row in squares:\n",
    "        f_row = []\n",
    "        for square in s_row:\n",
    "            if is_occupied(square):\n",
    "                f_row.append(1)\n",
    "            else:\n",
    "                f_row.append(0)\n",
    "        flags.append(f_row)\n",
    "    return np.array(flags)"
   ]
  },
  {
   "cell_type": "code",
   "execution_count": 198,
   "id": "70ba41b5",
   "metadata": {},
   "outputs": [],
   "source": [
    "#get feature vector\n",
    "def feature_vector(array): #ndarray input\n",
    "    return np.reshape(array, array.size)"
   ]
  },
  {
   "cell_type": "code",
   "execution_count": 199,
   "id": "e4764ae0",
   "metadata": {},
   "outputs": [],
   "source": [
    "#euclidean distance\n",
    "def euclidean_distance(v1, v2):\n",
    "    if(v1.size != v2.size):\n",
    "        print(\"Error\")\n",
    "    squared_differences = 0\n",
    "    for i in range(v1.size):\n",
    "        squared_differences += pow((v1[i] - v2[i]), 2)\n",
    "    return np.sqrt(squared_differences)"
   ]
  },
  {
   "cell_type": "code",
   "execution_count": 200,
   "id": "74c08cd6",
   "metadata": {},
   "outputs": [],
   "source": [
    "#TEST\n",
    "board = imread(resize_board_image(\"chessboard_test.png\"))\n",
    "squares = get_squares(prewitt(grayscale(board)))"
   ]
  },
  {
   "cell_type": "code",
   "execution_count": 201,
   "id": "ef03d5e0",
   "metadata": {},
   "outputs": [
    {
     "data": {
      "text/plain": [
       "array([[1, 1, 1, 1, 1, 1, 1, 1],\n",
       "       [1, 1, 1, 1, 1, 1, 1, 1],\n",
       "       [0, 0, 0, 0, 0, 0, 0, 0],\n",
       "       [0, 0, 0, 0, 0, 0, 0, 0],\n",
       "       [0, 0, 0, 0, 0, 0, 0, 0],\n",
       "       [0, 0, 0, 0, 0, 0, 0, 0],\n",
       "       [1, 1, 1, 1, 1, 1, 1, 1],\n",
       "       [1, 1, 1, 1, 1, 1, 1, 1]])"
      ]
     },
     "execution_count": 201,
     "metadata": {},
     "output_type": "execute_result"
    }
   ],
   "source": [
    "flag_squares(squares)"
   ]
  },
  {
   "cell_type": "code",
   "execution_count": 174,
   "id": "c11ad39c",
   "metadata": {},
   "outputs": [
    {
     "name": "stdout",
     "output_type": "stream",
     "text": [
      "[2 2]\n",
      "[4 4]\n"
     ]
    }
   ],
   "source": [
    "a = (np.array([1,1]) + np.array([1,1]))\n",
    "print(a)\n",
    "a += np.array([2,2])\n",
    "print(a)"
   ]
  },
  {
   "cell_type": "code",
   "execution_count": 204,
   "id": "161b53ae",
   "metadata": {},
   "outputs": [],
   "source": [
    "#TODO\n",
    "#get data from data_prep\n",
    "#label data\n",
    "#test SVM"
   ]
  },
  {
   "cell_type": "code",
   "execution_count": null,
   "id": "b1f1a808",
   "metadata": {},
   "outputs": [],
   "source": []
  }
 ],
 "metadata": {
  "kernelspec": {
   "display_name": "Python 3 (ipykernel)",
   "language": "python",
   "name": "python3"
  },
  "language_info": {
   "codemirror_mode": {
    "name": "ipython",
    "version": 3
   },
   "file_extension": ".py",
   "mimetype": "text/x-python",
   "name": "python",
   "nbconvert_exporter": "python",
   "pygments_lexer": "ipython3",
   "version": "3.11.4"
  }
 },
 "nbformat": 4,
 "nbformat_minor": 5
}
