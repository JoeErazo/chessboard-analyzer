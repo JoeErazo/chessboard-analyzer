{
 "cells": [
  {
   "cell_type": "code",
   "execution_count": 1,
   "id": "9c8c779a",
   "metadata": {},
   "outputs": [],
   "source": [
    "from matplotlib.image import imread\n",
    "from PIL import Image\n",
    "import numpy as np\n",
    "import matplotlib.pyplot as plt\n",
    "import os\n",
    "from collections import Counter"
   ]
  },
  {
   "cell_type": "code",
   "execution_count": 2,
   "id": "7ecd435b",
   "metadata": {},
   "outputs": [],
   "source": [
    "#resize board image to (640, 640)\n",
    "def resize_board_image(img_path):\n",
    "    img = Image.open(img_path)\n",
    "    img = img.resize((640, 640))\n",
    "    img.save(img_path)\n",
    "    return img_path"
   ]
  },
  {
   "cell_type": "code",
   "execution_count": 3,
   "id": "3a192942",
   "metadata": {},
   "outputs": [],
   "source": [
    "def grayscale(board):\n",
    "    #grayscale value\n",
    "    #RGB Value to grayscale formula (NTSC):\n",
    "    #0.299 ∙ Red + 0.587 ∙ Green + 0.114 ∙ Blue\n",
    "    board_gray = []\n",
    "    for i in range(board.shape[0]):\n",
    "        board_gray_row = []\n",
    "        for j in range (board.shape[1]):\n",
    "            r = board[i,j,0]\n",
    "            g = board[i,j,1]\n",
    "            b = board[i,j,2]\n",
    "            board_gray_row.append(0.299*r + 0.587*g + 0.114*b)\n",
    "        board_gray.append(board_gray_row)\n",
    "    return np.array(board_gray)"
   ]
  },
  {
   "cell_type": "code",
   "execution_count": 4,
   "id": "c8fad8dd",
   "metadata": {},
   "outputs": [],
   "source": [
    "#crop out border\n",
    "def crop(source, value):\n",
    "    square = []\n",
    "    for i in range(int(source.shape[0]*value), int(source.shape[0]*(1-value))):\n",
    "        square_row = []\n",
    "        for j in range (int(source.shape[0]*value), int(source.shape[0]*(1-value))):\n",
    "            square_row.append(source[i][j])\n",
    "        square.append(square_row)\n",
    "    return np.array(square)"
   ]
  },
  {
   "cell_type": "code",
   "execution_count": 5,
   "id": "67fe5c4a",
   "metadata": {},
   "outputs": [],
   "source": [
    "def get_squares(board):\n",
    "    squares = []\n",
    "    square_width = int(board.shape[0]/8)\n",
    "    square_height = int(board.shape[1]/8)\n",
    "    for i in range(8):\n",
    "        squares_row = []\n",
    "        for j in range (8):\n",
    "            square = board[(square_height*i):(square_height*(i+1)), (square_width*j):(square_width*(j+1))]\n",
    "            squares_row.append(crop(square, 0.125))\n",
    "        squares.append(squares_row)\n",
    "    return np.array(squares)"
   ]
  },
  {
   "cell_type": "code",
   "execution_count": 6,
   "id": "ec230895",
   "metadata": {},
   "outputs": [],
   "source": [
    "def prewitt(square):\n",
    "    square_height, square_width = square.shape\n",
    "    #prewitt kernel\n",
    "    h_filter = np.array([[-1, 0, 1], \n",
    "                        [-1, 0, 1], \n",
    "                        [-1, 0, 1]])\n",
    "    v_filter = np.array([[-1, -1, -1], \n",
    "                        [ 0,  0,  0], \n",
    "                        [ 1,  1,  1]])\n",
    "\n",
    "    #initialize gradient image\n",
    "    gradient_image = np.zeros((square_height, square_width))\n",
    "\n",
    "    for i in range(1, square_height - 1):\n",
    "        for j in range(1, square_width - 1):\n",
    "            h_value = (h_filter[0, 0] * square[i - 1, j - 1]) + \\\n",
    "                      (h_filter[0, 1] * square[i - 1, j]) + \\\n",
    "                      (h_filter[0, 2] * square[i - 1, j + 1]) + \\\n",
    "                      (h_filter[1, 0] * square[i, j - 1]) + \\\n",
    "                      (h_filter[1, 1] * square[i, j]) + \\\n",
    "                      (h_filter[1, 2] * square[i, j + 1]) + \\\n",
    "                      (h_filter[2, 0] * square[i + 1, j - 1]) + \\\n",
    "                      (h_filter[2, 1] * square[i + 1, j]) + \\\n",
    "                      (h_filter[2, 2] * square[i + 1, j + 1])\n",
    "\n",
    "            v_value = (v_filter[0, 0] * square[i - 1, j - 1]) + \\\n",
    "                      (v_filter[0, 1] * square[i - 1, j]) + \\\n",
    "                      (v_filter[0, 2] * square[i - 1, j + 1]) + \\\n",
    "                      (v_filter[1, 0] * square[i, j - 1]) + \\\n",
    "                      (v_filter[1, 1] * square[i, j]) + \\\n",
    "                      (v_filter[1, 2] * square[i, j + 1]) + \\\n",
    "                      (v_filter[2, 0] * square[i + 1, j - 1]) + \\\n",
    "                      (v_filter[2, 1] * square[i + 1, j]) + \\\n",
    "                      (v_filter[2, 2] * square[i + 1, j + 1])\n",
    "            #value per pixel in gradient image\n",
    "            magnitude = np.sqrt(pow(h_value, 2) + pow(v_value, 2))\n",
    "            gradient_image[i - 1, j - 1] = magnitude\n",
    "    return gradient_image"
   ]
  },
  {
   "cell_type": "code",
   "execution_count": 7,
   "id": "19e98499",
   "metadata": {},
   "outputs": [],
   "source": [
    "#check square occupancy\n",
    "def is_occupied(square):\n",
    "    square = square + 0.1e-16 #to avoid dividing by zero\n",
    "    \n",
    "    #horizontal pass\n",
    "    filled_h = 0\n",
    "    for i in range(square.shape[0]):\n",
    "        target = 0\n",
    "        ratio = 0\n",
    "        stop_count = 0\n",
    "        for j in range(square.shape[1]-1):\n",
    "            ratio = square[i, j+1] / square[i, j] #right:left pixel\n",
    "            if ratio > 9: #prewitt creates high contrast between pixels on an edge\n",
    "                target += 1\n",
    "                stop_count = j+1 #exclude detected pixel pair from the next search\n",
    "                break\n",
    "        ratio = 0\n",
    "        for j in range(square.shape[1]-1-stop_count):\n",
    "            ratio = square[i, square.shape[1]-j-2] / square[i, square.shape[1]-j-1] #left:right pixel\n",
    "            if ratio > 9:\n",
    "                target += 1\n",
    "                break\n",
    "        if target >= 2:\n",
    "            filled_h += 1\n",
    "        else:\n",
    "            pass\n",
    "    \n",
    "    #vertical pass\n",
    "    filled_v = 0\n",
    "    for i in range(square.shape[1]):\n",
    "        target = 0\n",
    "        ratio = 0\n",
    "        stop_count = 0\n",
    "        for j in range(square.shape[0]-1):\n",
    "            ratio = square[j+1, i] / square[j, i] #bottom:top pixel\n",
    "            if ratio > 9: \n",
    "                target += 1\n",
    "                stop_count = j+1\n",
    "                break\n",
    "        ratio = 0\n",
    "        for j in range(square.shape[0]-1-stop_count):\n",
    "            ratio = square[square.shape[1]-j-2, i] / square[square.shape[1]-j-1, i] #top:bottom pixel\n",
    "            if ratio > 9:\n",
    "                target += 1\n",
    "                break\n",
    "        if target >= 2:\n",
    "            filled_v += 1\n",
    "        else:\n",
    "            pass\n",
    "        \n",
    "    return filled_h/square.shape[0] > 0.6 and filled_v/square.shape[1] > 0.3"
   ]
  },
  {
   "cell_type": "code",
   "execution_count": 8,
   "id": "5191cf80",
   "metadata": {},
   "outputs": [],
   "source": [
    "#flag occupied squares\n",
    "def flag_squares(squares): #prewitt input\n",
    "    flags = []\n",
    "    for s_row in squares:\n",
    "        f_row = []\n",
    "        for square in s_row:\n",
    "            if is_occupied(square):\n",
    "                f_row.append(1)\n",
    "            else:\n",
    "                f_row.append(0)\n",
    "        flags.append(f_row)\n",
    "    return np.array(flags)"
   ]
  },
  {
   "cell_type": "code",
   "execution_count": 9,
   "id": "70ba41b5",
   "metadata": {},
   "outputs": [],
   "source": [
    "#get feature vector\n",
    "def feature_vector(array): #ndarray input\n",
    "    return np.reshape(array, array.size)"
   ]
  },
  {
   "cell_type": "code",
   "execution_count": 10,
   "id": "e4764ae0",
   "metadata": {},
   "outputs": [],
   "source": [
    "#\"distance\" from avg_img\n",
    "def euclidean_distance(v1, v2): #ndarray inputs\n",
    "    if(v1.size != v2.size):\n",
    "        print(f\"Error: {v1.size} -> {v2.size}\")\n",
    "    squared_differences = 0\n",
    "    for i in range(v1.size):\n",
    "        squared_differences += pow((v1[i] - v2[i]), 2)\n",
    "    return np.sqrt(squared_differences)"
   ]
  },
  {
   "cell_type": "code",
   "execution_count": 11,
   "id": "d5ffaae7",
   "metadata": {},
   "outputs": [],
   "source": [
    "#binary classifier for piece color\n",
    "class SVM:\n",
    "\n",
    "    def __init__(self, weights, bias, learning_rate=0.001, reg=0.01):\n",
    "        self.weights = weights\n",
    "        self.bias = bias\n",
    "        self.learning_rate = learning_rate\n",
    "        self.reg = reg\n",
    "\n",
    "    def predict(self, X):\n",
    "        approx = np.dot(X, self.weights) - self.bias\n",
    "        return np.sign(approx)"
   ]
  },
  {
   "cell_type": "code",
   "execution_count": 12,
   "id": "e42eb274",
   "metadata": {},
   "outputs": [],
   "source": [
    "#multi-class classifier for piece type\n",
    "class KNN:\n",
    "    def __init__(self, k):\n",
    "        self.k=k\n",
    "    \n",
    "    def fit(self, X, y):\n",
    "        self.X_train = X\n",
    "        self.y_train = y\n",
    "        \n",
    "    def predict(self, X):\n",
    "        predictions = [self._predict(x) for x in X]\n",
    "        return predictions\n",
    "        \n",
    "    def _predict(self, x):\n",
    "        #get distances\n",
    "        distances = [euclidean_distance(x, x_train) for x_train in self.X_train]\n",
    "        \n",
    "        #get closest k neighbors\n",
    "        k_indices = np.argsort(distances)[:self.k]\n",
    "        k_nearest_labels = [self.y_train[i] for i in k_indices]\n",
    "        \n",
    "        #majority vote\n",
    "        return Counter(k_nearest_labels).most_common()[0][0]"
   ]
  },
  {
   "cell_type": "code",
   "execution_count": 13,
   "id": "2d5d7f7e",
   "metadata": {},
   "outputs": [],
   "source": [
    "#import SVM\n",
    "\n",
    "#dark squares SVM\n",
    "d_svm_attributes = np.loadtxt(\"ndarray_txt/d_svm.txt\")\n",
    "d_weights = [d_svm_attributes[0], d_svm_attributes[1]]\n",
    "d_bias = d_svm_attributes[2]\n",
    "d_learning_rate = d_svm_attributes[3]\n",
    "d_reg = d_svm_attributes[4]\n",
    "d_svm = SVM(d_weights, d_bias, d_learning_rate, d_reg)\n",
    "\n",
    "#light squares SVM\n",
    "l_svm_attributes = np.loadtxt(\"ndarray_txt/d_svm.txt\")\n",
    "l_weights = [l_svm_attributes[0], l_svm_attributes[1]]\n",
    "l_bias = l_svm_attributes[2]\n",
    "l_learning_rate = l_svm_attributes[3]\n",
    "l_reg = l_svm_attributes[4]\n",
    "l_svm = SVM(l_weights, l_bias, l_learning_rate, l_reg)"
   ]
  },
  {
   "cell_type": "code",
   "execution_count": 14,
   "id": "487a36a7",
   "metadata": {},
   "outputs": [],
   "source": [
    "#import avg_imgs\n",
    "avg_img_db = np.loadtxt(\"ndarray_txt/avg_img_db.txt\")\n",
    "avg_img_dw = np.loadtxt(\"ndarray_txt/avg_img_db.txt\")\n",
    "avg_img_lb = np.loadtxt(\"ndarray_txt/avg_img_db.txt\")\n",
    "avg_img_lw = np.loadtxt(\"ndarray_txt/avg_img_db.txt\")"
   ]
  },
  {
   "cell_type": "code",
   "execution_count": 15,
   "id": "df4954e6",
   "metadata": {},
   "outputs": [],
   "source": [
    "#import KNN\n",
    "x_knn = np.loadtxt(\"ndarray_txt/x_knn.txt\")\n",
    "y_knn = np.loadtxt(\"ndarray_txt/y_knn.txt\")\n",
    "knn = KNN(5)\n",
    "knn.fit(x_knn, y_knn)"
   ]
  },
  {
   "cell_type": "code",
   "execution_count": 16,
   "id": "2184bd0d",
   "metadata": {},
   "outputs": [],
   "source": [
    "#import avg_prewitts\n",
    "avg_p_p = np.loadtxt(\"ndarray_txt/avg_p_p.txt\")\n",
    "avg_p_r = np.loadtxt(\"ndarray_txt/avg_p_r.txt\")\n",
    "avg_p_n = np.loadtxt(\"ndarray_txt/avg_p_n.txt\")\n",
    "avg_p_b = np.loadtxt(\"ndarray_txt/avg_p_b.txt\")\n",
    "avg_p_k = np.loadtxt(\"ndarray_txt/avg_p_k.txt\")\n",
    "avg_p_q = np.loadtxt(\"ndarray_txt/avg_p_q.txt\")"
   ]
  },
  {
   "cell_type": "code",
   "execution_count": 17,
   "id": "8b4be983",
   "metadata": {},
   "outputs": [],
   "source": [
    "#get square data point\n",
    "def get_color_data_point(square, square_type): #square_type: True->light, False->dark\n",
    "    if square_type:\n",
    "        x = euclidean_distance(feature_vector(square), feature_vector(avg_img_lb))\n",
    "        y = euclidean_distance(feature_vector(square), feature_vector(avg_img_lw))\n",
    "    else:\n",
    "        x = euclidean_distance(feature_vector(square), feature_vector(avg_img_db))\n",
    "        y = euclidean_distance(feature_vector(square), feature_vector(avg_img_dw))\n",
    "    return [x, y]"
   ]
  },
  {
   "cell_type": "code",
   "execution_count": 18,
   "id": "2bd76d7c",
   "metadata": {},
   "outputs": [],
   "source": [
    "def get_ptype_data_point(square):\n",
    "    p = euclidean_distance(feature_vector(square), feature_vector(avg_p_p))\n",
    "    r = euclidean_distance(feature_vector(square), feature_vector(avg_p_r))\n",
    "    n = euclidean_distance(feature_vector(square), feature_vector(avg_p_n))\n",
    "    b = euclidean_distance(feature_vector(square), feature_vector(avg_p_b))\n",
    "    k = euclidean_distance(feature_vector(square), feature_vector(avg_p_k))\n",
    "    q = euclidean_distance(feature_vector(square), feature_vector(avg_p_q))\n",
    "    return [p, r, n, b, k, q]"
   ]
  },
  {
   "cell_type": "code",
   "execution_count": 19,
   "id": "b1f1a808",
   "metadata": {},
   "outputs": [],
   "source": [
    "#iterate over squares in board\n",
    "def identify_pieces(board):\n",
    "    gray_board = grayscale(board)\n",
    "    p_squares = get_squares(prewitt(gray_board))\n",
    "    g_squares = get_squares(gray_board)\n",
    "    flagged_squares = flag_squares(p_squares) #determine occupied squares\n",
    "    piece_types = [[\"P\", \"R\", \"N\", \"B\", \"K\", \"Q\"], [\"p\", \"r\", \"n\", \"b\", \"k\", \"q\"]]\n",
    "    result = []\n",
    "    \n",
    "    #determine piece types and color\n",
    "    square_type = True #square_type: True->light, False->dark; light is always first square\n",
    "    for i in range(8):\n",
    "        result_row = []\n",
    "        for j in range(8):\n",
    "            #choose svm\n",
    "            if square_type:\n",
    "                svm = l_svm\n",
    "            else:\n",
    "                svm = d_svm\n",
    "            if flagged_squares[i,j] == 0: #empty square\n",
    "                result_row.append(\" \")\n",
    "            else:\n",
    "                sign = svm.predict(get_color_data_point(g_squares[i, j], square_type)) #predict color\n",
    "                if sign > 0: #black; above hyperplane\n",
    "                    c = 1\n",
    "                else: #white; below hyperplane\n",
    "                    c = 0\n",
    "                p = int(knn.predict(np.array([get_ptype_data_point(p_squares[i, j])]))[0]) #predict piece type\n",
    "                result_row.append(piece_types[c][p])\n",
    "            square_type = not(square_type)\n",
    "        result.append(result_row)\n",
    "\n",
    "    return result"
   ]
  },
  {
   "cell_type": "code",
   "execution_count": 20,
   "id": "d3570eed",
   "metadata": {},
   "outputs": [
    {
     "data": {
      "text/plain": [
       "[['r', 'n', 'b', 'q', 'k', 'b', 'n', 'r'],\n",
       " ['p', 'p', 'p', 'p', 'p', 'p', 'p', 'p'],\n",
       " [' ', ' ', ' ', ' ', ' ', ' ', ' ', ' '],\n",
       " [' ', ' ', ' ', ' ', ' ', ' ', ' ', ' '],\n",
       " [' ', ' ', ' ', ' ', ' ', ' ', ' ', ' '],\n",
       " [' ', ' ', ' ', ' ', ' ', ' ', ' ', ' '],\n",
       " ['p', 'p', ' ', 'b', ' ', 'b', 'p', 'b'],\n",
       " ['r', 'k', 'b', 'k', 'k', 'b', 'n', 'r']]"
      ]
     },
     "execution_count": 20,
     "metadata": {},
     "output_type": "execute_result"
    }
   ],
   "source": [
    "#TEST\n",
    "board = imread(\"testchessboard.png\")\n",
    "identify_pieces(board)"
   ]
  },
  {
   "cell_type": "code",
   "execution_count": null,
   "id": "48708489",
   "metadata": {},
   "outputs": [],
   "source": []
  }
 ],
 "metadata": {
  "kernelspec": {
   "display_name": "Python 3 (ipykernel)",
   "language": "python",
   "name": "python3"
  },
  "language_info": {
   "codemirror_mode": {
    "name": "ipython",
    "version": 3
   },
   "file_extension": ".py",
   "mimetype": "text/x-python",
   "name": "python",
   "nbconvert_exporter": "python",
   "pygments_lexer": "ipython3",
   "version": "3.11.4"
  }
 },
 "nbformat": 4,
 "nbformat_minor": 5
}
